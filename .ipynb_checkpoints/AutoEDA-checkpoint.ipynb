{
 "cells": [
  {
   "cell_type": "markdown",
   "metadata": {},
   "source": [
    "# Automate Explanatory Data Analysis"
   ]
  },
  {
   "cell_type": "markdown",
   "metadata": {
    "ExecuteTime": {
     "end_time": "2019-01-10T08:06:28.540993Z",
     "start_time": "2019-01-10T08:06:28.528605Z"
    }
   },
   "source": [
    "<a id='eda-definition'></a>\n",
    "\n",
    "## What is Exploratory Data Analysis?\n",
    "\n",
    "---\n",
    "\n",
    "Exploratory Data Analysis (EDA) is the first step in our data analysis process. Here, we make sense of the data we have and then figure out what questions we want to ask and how to frame them, as well as how best to manipulate our available data sources to get the answers we need.\n",
    "\n",
    "In short, we’re looking for clues that suggest our logical next steps, questions or areas of research.\n",
    "\n",
    "> Exploratory Data Analysis refers to the critical process of performing initial investigations on data so as to discover patterns, to spot anomalies, to test hypothesis and to check assumptions with the help of summary statistics and graphical representations.\n",
    "\n",
    "There are some tasks we need to perform almost always. In this blog I'll explore if there are something we can automate which will help us to improve our productivity.\n",
    "\n",
    "To starts with, **Import Necessary Libraries**"
   ]
  },
  {
   "cell_type": "code",
   "execution_count": null,
   "metadata": {
    "ExecuteTime": {
     "end_time": "2019-01-10T08:14:12.473043Z",
     "start_time": "2019-01-10T08:14:12.459986Z"
    }
   },
   "outputs": [],
   "source": [
    "import pandas as pd\n",
    "import numpy as np\n",
    "import matplotlib.pyplot as plt\n",
    "import seaborn as sns\n",
    "\n",
    "% matplotlib inline"
   ]
  },
  {
   "cell_type": "markdown",
   "metadata": {},
   "source": [
    "**Load Dataset using Panda**"
   ]
  },
  {
   "cell_type": "code",
   "execution_count": null,
   "metadata": {
    "ExecuteTime": {
     "end_time": "2019-01-10T08:19:02.557064Z",
     "start_time": "2019-01-10T08:19:02.544527Z"
    }
   },
   "outputs": [],
   "source": [
    "def dataframe_readcsv(csvFileName):\n",
    "    '''\n",
    "    Helper function that gives a dataframe of a given csv filename\n",
    "    \n",
    "    Arguments\n",
    "    =========\n",
    "    dataframe: pandas dataframe\n",
    "    '''\n",
    "    df = pd.read_csv(csvFileName)\n",
    "    return df"
   ]
  },
  {
   "cell_type": "code",
   "execution_count": null,
   "metadata": {
    "ExecuteTime": {
     "end_time": "2019-01-10T08:19:51.991844Z",
     "start_time": "2019-01-10T08:19:51.978631Z"
    }
   },
   "outputs": [],
   "source": [
    "def dataframe_shape(df):\n",
    "    '''\n",
    "    Helper function that gives a shape of a given dataframe\n",
    "    \n",
    "    Arguments\n",
    "    =========\n",
    "    dataframe: pandas dataframe\n",
    "    '''\n",
    "    print('\\n')\n",
    "    print('='*80)\n",
    "    \n",
    "    print('Shape:')\n",
    "    print(df.shape)"
   ]
  },
  {
   "cell_type": "code",
   "execution_count": null,
   "metadata": {
    "ExecuteTime": {
     "end_time": "2019-01-10T08:27:23.995295Z",
     "start_time": "2019-01-10T08:27:23.986655Z"
    }
   },
   "outputs": [],
   "source": [
    "def dataframe_dtypesame_head(df):\n",
    "    '''\n",
    "    Helper function that gives a datatypes of a given dataframe\n",
    "    \n",
    "    Arguments\n",
    "    =========\n",
    "    dataframe: pandas dataframe\n",
    "    '''\n",
    "    print('\\n')\n",
    "    print('='*80)\n",
    "    \n",
    "    print('Head:')\n",
    "    print(df.head())"
   ]
  },
  {
   "cell_type": "code",
   "execution_count": null,
   "metadata": {
    "ExecuteTime": {
     "end_time": "2019-01-10T08:00:40.719460Z",
     "start_time": "2019-01-10T08:00:40.595117Z"
    }
   },
   "outputs": [],
   "source": [
    "def dataframe_tail(df):\n",
    "    '''\n",
    "    Helper function that gives a tail of a given dataframe\n",
    "    \n",
    "    Arguments\n",
    "    =========\n",
    "    dataframe: pandas dataframe\n",
    "    '''\n",
    "    print('\\n')\n",
    "    print('='*80)\n",
    "    \n",
    "    print('Tail:')\n",
    "    print(df.tail())\n",
    "    "
   ]
  },
  {
   "cell_type": "markdown",
   "metadata": {
    "ExecuteTime": {
     "end_time": "2019-01-10T08:22:18.267754Z",
     "start_time": "2019-01-10T08:22:18.259826Z"
    }
   },
   "source": [
    "It is also a good practice to know the columns and their corresponding data types."
   ]
  },
  {
   "cell_type": "code",
   "execution_count": null,
   "metadata": {
    "ExecuteTime": {
     "end_time": "2019-01-10T08:00:40.719460Z",
     "start_time": "2019-01-10T08:00:40.595117Z"
    }
   },
   "outputs": [],
   "source": [
    "def dataframe_dtypes(df): \n",
    "    '''\n",
    "    Helper function that gives a data types of a given dataframe\n",
    "    \n",
    "    Arguments\n",
    "    =========\n",
    "    dataframe: pandas dataframe\n",
    "    '''\n",
    "    print('\\n')\n",
    "    print('='*80)\n",
    "    \n",
    "    print('Data Types:')\n",
    "    print(df.dtypes)\n",
    "    "
   ]
  },
  {
   "cell_type": "code",
   "execution_count": null,
   "metadata": {},
   "outputs": [],
   "source": [
    "def dataframe_info(df): \n",
    "    '''\n",
    "    Helper function that gives a info of a given dataframe\n",
    "    \n",
    "    Arguments\n",
    "    =========\n",
    "    dataframe: pandas dataframe\n",
    "    '''\n",
    "    print('\\n')\n",
    "    print('='*80)\n",
    "    \n",
    "    print('Info:')\n",
    "    print(df.info())"
   ]
  },
  {
   "cell_type": "markdown",
   "metadata": {},
   "source": [
    "There are two types of data: qualitative and quantitative. Both types of data have strengths and limitations and may be appropriate for different settings, evaluation designs, and evaluation questions.\n",
    "\n",
    "Quantitative data are numerical information, the analysis of which involves statistical techniques. The type of data you collect guides the analysis process.\n",
    "\n",
    "- Requires use of statistical analysis\n",
    "- Variables can be identified and relationships measured\n",
    "- Counted or expressed numerically\n",
    "- Often perceived as a more objective method of data analysis\n",
    "- Typically collected with surveys or questionnaires\n",
    "- Often represented visually using graphs or charts\n"
   ]
  },
  {
   "cell_type": "code",
   "execution_count": null,
   "metadata": {
    "ExecuteTime": {
     "end_time": "2019-01-10T08:01:21.648048Z",
     "start_time": "2019-01-10T08:01:21.618044Z"
    }
   },
   "outputs": [],
   "source": [
    "def quantitative_summarized(dataframe, x=None, y=None, hue=None, palette='Set1', ax=None, verbose=True, swarm=False):\n",
    "    '''\n",
    "    Helper function that gives a quick summary of quantattive data\n",
    "    Arguments\n",
    "    =========\n",
    "    dataframe: pandas dataframe\n",
    "    x: str. horizontal axis to plot the labels of categorical data (usually the target variable)\n",
    "    y: str. vertical axis to plot the quantitative data\n",
    "    hue: str. if you want to compare it another categorical variable (usually the target variable if x is another variable)\n",
    "    palette: array-like. Colour of the plot\n",
    "    swarm: if swarm is set to True, a swarm plot would be overlayed\n",
    "    Returns\n",
    "    =======\n",
    "    Quick Stats of the data and also the box plot of the distribution\n",
    "    '''\n",
    "    series = dataframe[y]\n",
    "    print(series.describe())\n",
    "    print('mode: ', series.mode())\n",
    "    if verbose:\n",
    "        print('='*80)\n",
    "        print(series.value_counts())\n",
    "\n",
    "    sns.boxplot(x=x, y=y, hue=hue, data=dataframe, palette=palette, ax=ax)\n",
    "\n",
    "    if swarm:\n",
    "        sns.swarmplot(x=x, y=y, hue=hue, data=dataframe,\n",
    "                      palette=palette, ax=ax)\n",
    "\n",
    "    plt.show()"
   ]
  },
  {
   "cell_type": "markdown",
   "metadata": {},
   "source": [
    "Qualitative data consist of words and narratives. The analysis of qualitative data can come in many forms including highlighting key words, extracting themes, and elaborating on concepts.\n",
    "\n",
    "- Examines non-numerical data for patterns and meanings\n",
    "- Often described as being more “rich” than quantitative data\n",
    "- Is gathered and analyzed by an individual, it can be more subjective\n",
    "- Can be collected through methods such as observation techniques, focus groups, interviews, and case studies"
   ]
  },
  {
   "cell_type": "code",
   "execution_count": null,
   "metadata": {
    "ExecuteTime": {
     "end_time": "2019-01-10T08:01:18.838385Z",
     "start_time": "2019-01-10T08:01:18.807224Z"
    }
   },
   "outputs": [],
   "source": [
    "def categorical_summarized(dataframe, x=None, y=None, hue=None, palette='Set1', ax=None, verbose=True):\n",
    "    '''\n",
    "    Helper function that gives a quick summary of a given column of categorical data\n",
    "    Arguments\n",
    "    =========\n",
    "    dataframe: pandas dataframe\n",
    "    x: str. horizontal axis to plot the labels of categorical data, y would be the count\n",
    "    y: str. vertical axis to plot the labels of categorical data, x would be the count\n",
    "    hue: str. if you want to compare it another variable (usually the target variable)\n",
    "    palette: array-like. Colour of the plot|\n",
    "    Returns\n",
    "    =======\n",
    "    Quick Stats of the data and also the count plot\n",
    "    '''\n",
    "    if x == None:\n",
    "        column_interested = y\n",
    "    else:\n",
    "        column_interested = x\n",
    "    series = dataframe[column_interested]\n",
    "    print(series.describe())\n",
    "    print('mode: ', series.mode())\n",
    "    if verbose:\n",
    "        print('='*80)\n",
    "        print(series.value_counts())\n",
    "\n",
    "    sns.countplot(x=x, y=y, hue=hue, data=dataframe, palette=palette, ax=ax)\n",
    "    plt.show()"
   ]
  },
  {
   "cell_type": "code",
   "execution_count": null,
   "metadata": {
    "ExecuteTime": {
     "end_time": "2019-01-10T08:01:15.531855Z",
     "start_time": "2019-01-10T08:01:15.515552Z"
    }
   },
   "outputs": [],
   "source": [
    "def init_numeric_types(df):\n",
    "    '''\n",
    "    Helper function that gives a quick summary of quantattive data\n",
    "    \n",
    "    Arguments\n",
    "    =========\n",
    "    dataframe: pandas dataframe\n",
    "    \n",
    "    Returns\n",
    "    =======\n",
    "    Quick Stats of the data and also the box plot of the distribution\n",
    "    '''\n",
    "    print('\\n')\n",
    "    print('Numeric Data Types:')\n",
    "    numeric_columns = df.select_dtypes(include=[np.number]).columns.tolist()\n",
    "    for o in numeric_columns:\n",
    "        try:\n",
    "            print('\\n')\n",
    "            print(f'{o}')\n",
    "            quantitative_summarized(df, y=o)\n",
    "        except:\n",
    "            continue"
   ]
  },
  {
   "cell_type": "code",
   "execution_count": null,
   "metadata": {
    "ExecuteTime": {
     "end_time": "2019-01-10T08:01:12.498679Z",
     "start_time": "2019-01-10T08:01:12.484190Z"
    }
   },
   "outputs": [],
   "source": [
    "def init_object_types(df):\n",
    "    '''\n",
    "    Helper function that gives a quick summary of a given column of categorical data\n",
    "    \n",
    "    Arguments\n",
    "    =========\n",
    "    dataframe: pandas dataframe\n",
    "    \n",
    "    Returns\n",
    "    =======\n",
    "    Quick Stats of the data and also the count plot\n",
    "    '''\n",
    "    print('\\n')    \n",
    "    print('Object Data Types:')\n",
    "    object_columns = df.select_dtypes(include=[np.object]).columns.tolist()\n",
    "    for o in object_columns:\n",
    "        print('\\n')\n",
    "        print(f'{o}')\n",
    "        categorical_summarized(df, x=o)"
   ]
  },
  {
   "cell_type": "code",
   "execution_count": null,
   "metadata": {
    "ExecuteTime": {
     "end_time": "2019-01-10T08:01:05.629085Z",
     "start_time": "2019-01-10T08:01:05.588719Z"
    }
   },
   "outputs": [],
   "source": [
    "def init_dataframe(csvFileName, shape=False, head=False, tail=False, dtypes=False, info=False, summaryObject=False, summaryNumeric=False):\n",
    "    '''\n",
    "    Helper function that gives a a high level summary of a given dataframe\n",
    "    \n",
    "    Arguments\n",
    "    =========\n",
    "    dataframe: pandas dataframe\n",
    "    '''\n",
    "    df = pd.read_csv(csvFileName)\n",
    "    \n",
    "    if shape == True:\n",
    "        dataframe_shape(df)\n",
    "        \n",
    "    if head == True:\n",
    "        dataframe_head(df)\n",
    "    \n",
    "    if tail == True:\n",
    "        dataframe_tail(df)\n",
    "    \n",
    "    if dtypes == True:\n",
    "        dataframe_dtypes(df)\n",
    "    \n",
    "    if info == True:\n",
    "        dataframe_info(df)\n",
    "    \n",
    "    if summaryObject == True:\n",
    "        init_object_types(df)\n",
    "    \n",
    "    if summaryNumeric == True:\n",
    "        init_numeric_types(df)"
   ]
  },
  {
   "cell_type": "markdown",
   "metadata": {},
   "source": [
    "Last of all I have created a python file and put all these methods there. All I need to do next time is using this library, I can get a quick EDA of my dataset."
   ]
  },
  {
   "cell_type": "code",
   "execution_count": null,
   "metadata": {
    "ExecuteTime": {
     "end_time": "2019-01-10T08:44:22.616039Z",
     "start_time": "2019-01-10T08:44:03.651140Z"
    }
   },
   "outputs": [],
   "source": [
    "% matplotlib inline\n",
    "import auto_eda\n",
    "\n",
    "csvFileName = './datasets/sacramento_real_estate_transactions.csv'\n",
    "auto_eda.init_dataframe(csvFileName, shape=True, head=True, tail=True, dtypes=True, info=True, summaryObject=True, summaryNumeric=True)"
   ]
  }
 ],
 "metadata": {
  "kernelspec": {
   "display_name": "Python 3",
   "language": "python",
   "name": "python3"
  },
  "language_info": {
   "codemirror_mode": {
    "name": "ipython",
    "version": 3
   },
   "file_extension": ".py",
   "mimetype": "text/x-python",
   "name": "python",
   "nbconvert_exporter": "python",
   "pygments_lexer": "ipython3",
   "version": "3.6.4"
  },
  "varInspector": {
   "cols": {
    "lenName": 16,
    "lenType": 16,
    "lenVar": 40
   },
   "kernels_config": {
    "python": {
     "delete_cmd_postfix": "",
     "delete_cmd_prefix": "del ",
     "library": "var_list.py",
     "varRefreshCmd": "print(var_dic_list())"
    },
    "r": {
     "delete_cmd_postfix": ") ",
     "delete_cmd_prefix": "rm(",
     "library": "var_list.r",
     "varRefreshCmd": "cat(var_dic_list()) "
    }
   },
   "types_to_exclude": [
    "module",
    "function",
    "builtin_function_or_method",
    "instance",
    "_Feature"
   ],
   "window_display": false
  }
 },
 "nbformat": 4,
 "nbformat_minor": 2
}
