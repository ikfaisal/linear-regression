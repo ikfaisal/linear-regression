{
 "cells": [
  {
   "cell_type": "markdown",
   "metadata": {},
   "source": [
    "# Simple Linear Regression from Scratch\n",
    "\n",
    "---\n",
    "\n",
    "### Learning Objectives\n",
    "- Code simple linear regression from scratch using a simple housing price dataset\n",
    "- Plot the regression line and predictions against the true values"
   ]
  },
  {
   "cell_type": "code",
   "execution_count": 2,
   "metadata": {
    "ExecuteTime": {
     "end_time": "2019-01-08T07:56:07.930493Z",
     "start_time": "2019-01-08T07:56:04.816664Z"
    }
   },
   "outputs": [],
   "source": [
    "import pandas as pd\n",
    "import numpy as np\n",
    "import matplotlib.pyplot as plt\n",
    "\n",
    "% matplotlib inline"
   ]
  },
  {
   "cell_type": "markdown",
   "metadata": {},
   "source": [
    "<a id='load-data'></a>\n",
    "\n",
    "## Load the real estate data\n",
    "\n",
    "---\n",
    "\n",
    "In this lesson we will be constructing a simple linear regression. Included in the datasets folder is a very simple dataset on real estate prices.\n",
    "\n",
    "**Load the data using pandas.**"
   ]
  },
  {
   "cell_type": "code",
   "execution_count": 12,
   "metadata": {
    "ExecuteTime": {
     "end_time": "2019-01-08T08:03:30.529925Z",
     "start_time": "2019-01-08T08:03:30.493747Z"
    }
   },
   "outputs": [
    {
     "data": {
      "text/html": [
       "<div>\n",
       "<style scoped>\n",
       "    .dataframe tbody tr th:only-of-type {\n",
       "        vertical-align: middle;\n",
       "    }\n",
       "\n",
       "    .dataframe tbody tr th {\n",
       "        vertical-align: top;\n",
       "    }\n",
       "\n",
       "    .dataframe thead th {\n",
       "        text-align: right;\n",
       "    }\n",
       "</style>\n",
       "<table border=\"1\" class=\"dataframe\">\n",
       "  <thead>\n",
       "    <tr style=\"text-align: right;\">\n",
       "      <th></th>\n",
       "      <th>sqft</th>\n",
       "      <th>bdrms</th>\n",
       "      <th>age</th>\n",
       "      <th>price</th>\n",
       "    </tr>\n",
       "  </thead>\n",
       "  <tbody>\n",
       "    <tr>\n",
       "      <th>0</th>\n",
       "      <td>2104</td>\n",
       "      <td>3</td>\n",
       "      <td>70</td>\n",
       "      <td>399900</td>\n",
       "    </tr>\n",
       "    <tr>\n",
       "      <th>1</th>\n",
       "      <td>1600</td>\n",
       "      <td>3</td>\n",
       "      <td>28</td>\n",
       "      <td>329900</td>\n",
       "    </tr>\n",
       "    <tr>\n",
       "      <th>2</th>\n",
       "      <td>2400</td>\n",
       "      <td>3</td>\n",
       "      <td>44</td>\n",
       "      <td>369000</td>\n",
       "    </tr>\n",
       "    <tr>\n",
       "      <th>3</th>\n",
       "      <td>1416</td>\n",
       "      <td>2</td>\n",
       "      <td>49</td>\n",
       "      <td>232000</td>\n",
       "    </tr>\n",
       "    <tr>\n",
       "      <th>4</th>\n",
       "      <td>3000</td>\n",
       "      <td>4</td>\n",
       "      <td>75</td>\n",
       "      <td>539900</td>\n",
       "    </tr>\n",
       "  </tbody>\n",
       "</table>\n",
       "</div>"
      ],
      "text/plain": [
       "   sqft  bdrms  age   price\n",
       "0  2104      3   70  399900\n",
       "1  1600      3   28  329900\n",
       "2  2400      3   44  369000\n",
       "3  1416      2   49  232000\n",
       "4  3000      4   75  539900"
      ]
     },
     "execution_count": 12,
     "metadata": {},
     "output_type": "execute_result"
    }
   ],
   "source": [
    "house_csv = './datasets/housing-data.csv'\n",
    "\n",
    "house = pd.read_csv(house_csv)\n",
    "house.head()"
   ]
  },
  {
   "cell_type": "markdown",
   "metadata": {
    "ExecuteTime": {
     "end_time": "2019-01-08T08:04:23.389858Z",
     "start_time": "2019-01-08T08:04:23.332287Z"
    }
   },
   "source": [
    "<a id='build-slr'></a>\n",
    "\n",
    "## Build a SLR: estimating `price` with `sqft`\n",
    "\n",
    "---\n",
    "\n",
    "We will start by constructing the simple linear regression. Below is the formulation for the SLR and our specific model of interest:\n",
    "\n",
    "### $$ y = \\beta_0 + \\beta_1 x + \\epsilon \\\\\n",
    "\\text{price} = \\beta_0 + \\beta_1 \\text{sqft} + \\epsilon$$\n",
    "\n",
    "> $\\beta_0$: the intercept\n",
    "\n",
    "Without the intercept term the regression line would always have to pass through the origin, which is almost never an optimal way to represent the relationship between our target and predictor variable.\n",
    "\n",
    "The formula to calculate intercept (c) is:\n",
    "\n",
    "### $$ \\beta_0 = mean(y) – mean(x) * m $$\n",
    "\n",
    "\n",
    "> $\\beta_1$: the coefficient on $x$ \n",
    "\n",
    "We intend to estimate the values of $y$ from $x$. Each value of $x$ is multiplied by the same coefficient, which is why linear regression models model a _linear_ relationship between our predictor and target variable.\n",
    "\n",
    "Recall that a 1 unit increase in $x$ will correspond to a $\\beta_1$ unit increase in $y$ according to our model.\n",
    "\n",
    "The mathematical formula to calculate slope (m) is:\n",
    "\n",
    "### $$ \\beta_1 = (mean(x) * mean(y) – mean(x*y)) / ( mean (x)^2 – mean( x^2)) $$\n",
    "\n",
    "> $\\epsilon_1$: the error (residuals)\n",
    "\n",
    "This is the difference between the predicted and true values that are unexplained by $x$ in the regression.\n",
    "\n",
    "---\n",
    "\n",
    "<a id='target-predictor'></a>\n",
    "\n",
    "### Define the target and predictor variables\n",
    "\n",
    "Extract the target variable and predictor variable from our pandas dataframe. Classically, target and predictor are referred to dependent and independent variables. There are many different terms for what $x$ and $y$ represent."
   ]
  },
  {
   "cell_type": "code",
   "execution_count": 71,
   "metadata": {
    "ExecuteTime": {
     "end_time": "2019-01-08T08:47:01.389192Z",
     "start_time": "2019-01-08T08:47:01.134872Z"
    }
   },
   "outputs": [
    {
     "data": {
      "image/png": "[encoded data removed]",
      "text/plain": [
       "<matplotlib.figure.Figure at 0x17ca485b710>"
      ]
     },
     "metadata": {
      "needs_background": "light"
     },
     "output_type": "display_data"
    }
   ],
   "source": [
    "# target\n",
    "price = house['price']\n",
    "\n",
    "# predictor\n",
    "sqft = house['sqft']\n",
    "\n",
    "fig = plt.figure(figsize=(8, 8))\n",
    "ax = fig.gca()  \n",
    "\n",
    "# y-true\n",
    "ax.scatter(price, sqft, color='steelblue', s=70)\n",
    "\n",
    "plt.xlabel('Price')\n",
    "plt.ylabel('Sqft')\n",
    "\n",
    "plt.show()"
   ]
  },
  {
   "cell_type": "markdown",
   "metadata": {},
   "source": [
    "You can see that the dependent variable has a linear distribution with respect to the independent variable.\n",
    "\n",
    "Now, let’s write a function for intercept and slope (coefficient):\n",
    "\n",
    "<a id='plot-regline'></a>\n",
    "\n",
    "### Write two functions to to find intercept and slope\n",
    "\n",
    "Your function should:\n",
    "- Accept $X$, $y$ as arguments\n",
    "- Calculate the intercept $\\beta_0$ and slope $\\beta_1$ "
   ]
  },
  {
   "cell_type": "code",
   "execution_count": 5,
   "metadata": {
    "ExecuteTime": {
     "end_time": "2019-01-08T07:56:15.280265Z",
     "start_time": "2019-01-08T07:56:15.270442Z"
    }
   },
   "outputs": [],
   "source": [
    "def calculate_coefficient(xs, ys):\n",
    "    '''\n",
    "    Returns coefficient from x and y\n",
    "    \n",
    "    Formula: (mean(x) mean(y) – mean(xy)) / ( mean (x)^2 – mean( x^2))\n",
    "    '''\n",
    "    x = np.array(xs)\n",
    "    y = np.array(ys)\n",
    "      \n",
    "    return (((np.mean(x) * np.mean(y)) - np.mean(x * y)) / (np.mean(x) ** 2 - np.mean(x ** 2)))"
   ]
  },
  {
   "cell_type": "code",
   "execution_count": 6,
   "metadata": {
    "ExecuteTime": {
     "end_time": "2019-01-08T07:56:18.000995Z",
     "start_time": "2019-01-08T07:56:17.992591Z"
    }
   },
   "outputs": [],
   "source": [
    "def calculate_intercept(xs, ys):\n",
    "    '''\n",
    "    Returns intercept from x and y\n",
    "    \n",
    "    Formula: mean(y) – mean(x) * m\n",
    "    '''\n",
    "    x = np.array(xs)\n",
    "    y = np.array(ys)\n",
    "    \n",
    "    return (np.mean(y) - (np.mean(x) * calculate_coefficient(x, y)))"
   ]
  },
  {
   "cell_type": "markdown",
   "metadata": {},
   "source": [
    "<a id='plot-regline'></a>\n",
    "\n",
    "### Write a function to plot a regression line\n",
    "\n",
    "Your function should:\n",
    "- Accept $\\beta_0$, $\\beta_1$, $x$, and $y$ as arguments\n",
    "- Calculate the predicted values $\\hat{y}$ given $x$ (using the function you wrote above)\n",
    "- Plot the original points\n",
    "- Plot the predicted points (in a different color)\n",
    "- Plot the regression line defined by the slope and intercept"
   ]
  },
  {
   "cell_type": "code",
   "execution_count": 39,
   "metadata": {
    "ExecuteTime": {
     "end_time": "2019-01-08T08:36:32.558208Z",
     "start_time": "2019-01-08T08:36:32.550354Z"
    }
   },
   "outputs": [],
   "source": [
    "def calculate_yhat(x, b0, b1):\n",
    "    return b0 + b1*x"
   ]
  },
  {
   "cell_type": "code",
   "execution_count": 135,
   "metadata": {
    "ExecuteTime": {
     "end_time": "2019-01-08T09:18:17.007472Z",
     "start_time": "2019-01-08T09:18:16.945766Z"
    }
   },
   "outputs": [],
   "source": [
    "def plot_regression(x, y, b0, b1, withResudals=False):\n",
    "    \n",
    "    fig = plt.figure(figsize=(7,7))\n",
    "    ax = fig.gca()\n",
    "    # Predictive Function\n",
    "    yhat = calculate_yhat(x, b0, b1)\n",
    "    # y-true\n",
    "    ax.scatter(x, y, color='steelblue', s=70)\n",
    "    # y-pred\n",
    "    ax.scatter(x, yhat, color='darkred')\n",
    "    \n",
    "    min_x, max_x = np.min(x), np.max(x)\n",
    "    min_yhat = calculate_yhat(min_x, b0, b1)\n",
    "    max_yhat = calculate_yhat(max_x, b0, b1)\n",
    "    \n",
    "    # plots trend line\n",
    "    ax.plot([min_x, max_x], [min_yhat, max_yhat], color='darkred',\n",
    "            linewidth=2.0, alpha=0.7)\n",
    "    \n",
    "    if withResudals == True:\n",
    "        col_names =  ['X', 'Y', 'YHat']\n",
    "        h = pd.DataFrame(columns = col_names) #creates a new dataframe that's empty\n",
    "        h['X'] = x\n",
    "        h['Y'] = y\n",
    "        h['YHat'] = yhat\n",
    "        # iterate over predictions\n",
    "        for _, row in h.iterrows():\n",
    "            plt.plot((row['X'], row['X']), (row['Y'], row['YHat']), 'b-')\n",
    "    \n",
    "    plt.show()"
   ]
  },
  {
   "cell_type": "code",
   "execution_count": 136,
   "metadata": {
    "ExecuteTime": {
     "end_time": "2019-01-08T09:18:19.698845Z",
     "start_time": "2019-01-08T09:18:19.471744Z"
    }
   },
   "outputs": [
    {
     "data": {
      "image/png": "[encoded data removed]",
      "text/plain": [
       "<matplotlib.figure.Figure at 0x17ca57d2b00>"
      ]
     },
     "metadata": {
      "needs_background": "light"
     },
     "output_type": "display_data"
    }
   ],
   "source": [
    "b0 = calculate_intercept(sqft, price)\n",
    "b1 = calculate_coefficient(sqft, price)\n",
    "\n",
    "plot_regression(sqft, price, b0, b1)"
   ]
  },
  {
   "cell_type": "code",
   "execution_count": 137,
   "metadata": {
    "ExecuteTime": {
     "end_time": "2019-01-08T09:18:22.300189Z",
     "start_time": "2019-01-08T09:18:21.921624Z"
    }
   },
   "outputs": [
    {
     "data": {
      "image/png": "[encoded data removed]",
      "text/plain": [
       "<matplotlib.figure.Figure at 0x17ca57d6d68>"
      ]
     },
     "metadata": {
      "needs_background": "light"
     },
     "output_type": "display_data"
    }
   ],
   "source": [
    "plot_regression(sqft, price, b0, b1, withResudals=True)"
   ]
  },
  {
   "cell_type": "code",
   "execution_count": null,
   "metadata": {},
   "outputs": [],
   "source": []
  }
 ],
 "metadata": {
  "kernelspec": {
   "display_name": "Python 3",
   "language": "python",
   "name": "python3"
  },
  "language_info": {
   "codemirror_mode": {
    "name": "ipython",
    "version": 3
   },
   "file_extension": ".py",
   "mimetype": "text/x-python",
   "name": "python",
   "nbconvert_exporter": "python",
   "pygments_lexer": "ipython3",
   "version": "3.6.4"
  },
  "varInspector": {
   "cols": {
    "lenName": 16,
    "lenType": 16,
    "lenVar": 40
   },
   "kernels_config": {
    "python": {
     "delete_cmd_postfix": "",
     "delete_cmd_prefix": "del ",
     "library": "var_list.py",
     "varRefreshCmd": "print(var_dic_list())"
    },
    "r": {
     "delete_cmd_postfix": ") ",
     "delete_cmd_prefix": "rm(",
     "library": "var_list.r",
     "varRefreshCmd": "cat(var_dic_list()) "
    }
   },
   "types_to_exclude": [
    "module",
    "function",
    "builtin_function_or_method",
    "instance",
    "_Feature"
   ],
   "window_display": false
  }
 },
 "nbformat": 4,
 "nbformat_minor": 2
}
